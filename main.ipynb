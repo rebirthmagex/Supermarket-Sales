!pip install streamlit
import streamlit as st

import urllib
print("Password/Enpoint IP for localtunnel is:",urllib.request.urlopen('https://ipv4.icanhazip.com').read().decode('utf8').strip("\n"))

!streamlit run dashboard.py &>/content/logs.txt &

!npx localtunnel --port 8501